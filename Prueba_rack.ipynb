{
 "cells": [
  {
   "cell_type": "code",
   "execution_count": 3,
   "metadata": {},
   "outputs": [
    {
     "name": "stdout",
     "output_type": "stream",
     "text": [
      "[[1. 1. 1. 1.]\n",
      " [1. 1. 1. 1.]\n",
      " [1. 1. 1. 1.]\n",
      " [1. 1. 1. 1.]]\n"
     ]
    }
   ],
   "source": [
    "import pandas as pd\n",
    "import numpy as np\n",
    "rack = np.ones((4,4))\n",
    "servo1 = 0 \n",
    "servo2 = 0\n",
    "servo3 = 0\n",
    "servo4 = 0\n",
    "servo5 = 0\n",
    "print(rack)"
   ]
  },
  {
   "cell_type": "code",
   "execution_count": 5,
   "metadata": {},
   "outputs": [
    {
     "name": "stdout",
     "output_type": "stream",
     "text": [
      "Ingrese el nombre del medicamento que buscaMedicamento 1\n",
      "Medicamento encontrado en posicion 0,0\n"
     ]
    }
   ],
   "source": [
    "\n",
    "bandera = 0\n",
    "column = 0\n",
    "entrada = input('Ingrese el nombre del medicamento que busca')\n",
    "if entrada == 'Medicamento 1':\n",
    "    column = 0;\n",
    "elif entrada == 'Medicamento 2':\n",
    "    column = 1;\n",
    "elif entrada == 'Medicamento 3':\n",
    "    column = 2;\n",
    "elif entrada == 'Medicamento 4':\n",
    "    column = 3;\n",
    "else:\n",
    "    column = 5\n",
    "    \n",
    "try:\n",
    "    for i in range(len(rack)):\n",
    "        if rack[i,column] == 1 and bandera == 0:\n",
    "            print('Medicamento encontrado en posicion {},{}'.format(i,column))\n",
    "            bandera = 1\n",
    "except:\n",
    "    print('Medicamento no encontrado en el rack')"
   ]
  },
  {
   "cell_type": "code",
   "execution_count": 42,
   "metadata": {},
   "outputs": [
    {
     "name": "stdout",
     "output_type": "stream",
     "text": [
      "<class 'int'>\n"
     ]
    }
   ],
   "source": [
    "\n"
   ]
  },
  {
   "cell_type": "code",
   "execution_count": 61,
   "metadata": {},
   "outputs": [
    {
     "name": "stdout",
     "output_type": "stream",
     "text": [
      "Medicamento encontrado en posicion 1,1\n"
     ]
    }
   ],
   "source": []
  },
  {
   "cell_type": "code",
   "execution_count": null,
   "metadata": {},
   "outputs": [],
   "source": []
  }
 ],
 "metadata": {
  "kernelspec": {
   "display_name": "Python 3",
   "language": "python",
   "name": "python3"
  },
  "language_info": {
   "codemirror_mode": {
    "name": "ipython",
    "version": 3
   },
   "file_extension": ".py",
   "mimetype": "text/x-python",
   "name": "python",
   "nbconvert_exporter": "python",
   "pygments_lexer": "ipython3",
   "version": "3.8.5"
  }
 },
 "nbformat": 4,
 "nbformat_minor": 4
}
